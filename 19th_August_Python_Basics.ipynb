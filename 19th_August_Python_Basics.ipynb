{
 "cells": [
  {
   "cell_type": "markdown",
   "id": "cdf4be6c-d4df-484d-94c3-09add844d1e6",
   "metadata": {},
   "source": [
    "Python Basics Variable"
   ]
  },
  {
   "cell_type": "code",
   "execution_count": 6,
   "id": "7f55c67b-4ead-4371-9580-9f69e1329276",
   "metadata": {},
   "outputs": [
    {
     "name": "stdout",
     "output_type": "stream",
     "text": [
      "40 30\n"
     ]
    }
   ],
   "source": [
    "'''Q1) Declare two variables, `x` and `y`, and assign them integer values.\n",
    "Swap the values of these variables without using any temporary variable.'''\n",
    "\n",
    "#Ans:\n",
    "x=30\n",
    "y=40\n",
    "\n",
    "x=x+y\n",
    "y=x-y\n",
    "x=x-y\n",
    "\n",
    "print(x,y)\n"
   ]
  },
  {
   "cell_type": "code",
   "execution_count": 8,
   "id": "10fb93ce-2b95-4299-869d-fc0d02949ddf",
   "metadata": {},
   "outputs": [
    {
     "name": "stdin",
     "output_type": "stream",
     "text": [
      "Enter the length of the rectangle<cm> 88\n",
      "Enter the width of the rectangle<cm> 88\n"
     ]
    },
    {
     "name": "stdout",
     "output_type": "stream",
     "text": [
      "The area of the rectancgle is:  7744 cm^2\n"
     ]
    }
   ],
   "source": [
    "'''Q2) Create a program that calculates the area of a rectangle.\n",
    "Take the length and width as inputs from the user and store them in variables.\n",
    "Calculate and display the area.'''\n",
    "\n",
    "#Ans:\n",
    "Length=int(input('Enter the length of the rectangle<cm>'))\n",
    "Width=int(input('Enter the width of the rectangle<cm>'))\n",
    "area=Length*Width\n",
    "print('The area of the rectancgle is: ',area,'cm^2')"
   ]
  },
  {
   "cell_type": "code",
   "execution_count": 5,
   "id": "f328c5a0-521b-4929-862c-ed8e071515b5",
   "metadata": {},
   "outputs": [
    {
     "name": "stdin",
     "output_type": "stream",
     "text": [
      "Enter the temp in celcius 0\n"
     ]
    },
    {
     "name": "stdout",
     "output_type": "stream",
     "text": [
      "Temp in farenhit is 32.0\n"
     ]
    }
   ],
   "source": [
    "'''Q3) Write a Python program that converts temperatures from Celsius to Fahrenheit.\n",
    "Take the temperature in Celsius as input, store it in a variable, convert it to Fahrenheit, and display the result.'''#\n",
    "\n",
    "#Ans:\n",
    "c=float(input('Enter the temp in celcius'))\n",
    "f=c*9/5+32\n",
    "print('Temp in farenhit is',f)"
   ]
  },
  {
   "cell_type": "markdown",
   "id": "407ee63e-8c72-4a7d-9b57-cd0dd52e8d0b",
   "metadata": {},
   "source": [
    "String Based Questions"
   ]
  },
  {
   "cell_type": "code",
   "execution_count": 9,
   "id": "0f725ff6-fdfd-4acf-b5cf-f9848d4f9090",
   "metadata": {},
   "outputs": [
    {
     "name": "stdin",
     "output_type": "stream",
     "text": [
      "Enter a String fkgdk\n"
     ]
    },
    {
     "name": "stdout",
     "output_type": "stream",
     "text": [
      "Length of the string is: 5\n"
     ]
    }
   ],
   "source": [
    "'''Q1)Write a Python program that takes a string as input and prints the length of the string.'''\n",
    "\n",
    "#Ans:\n",
    "a=input('Enter a String')\n",
    "length=len(a)\n",
    "print('Length of the string is:',length)"
   ]
  },
  {
   "cell_type": "code",
   "execution_count": 7,
   "id": "b108fc38-5fc8-4fd9-8b64-9da73f1ecf78",
   "metadata": {},
   "outputs": [
    {
     "name": "stdin",
     "output_type": "stream",
     "text": [
      "Enter the string aeioufhjo\n"
     ]
    },
    {
     "name": "stdout",
     "output_type": "stream",
     "text": [
      "No of vowel present is: 6\n"
     ]
    }
   ],
   "source": [
    "'''Q2)Create a program that takes a sentence from the user and counts the number of vowels (a, e, i, o, u) in the string.'''\n",
    "\n",
    "#Ans:\n",
    "s=input('Enter the string')\n",
    "a=len(s)\n",
    "count=0\n",
    "for i in range(a):\n",
    "    if s[i] in ('a','e','i','o','u'):\n",
    "        count+=1\n",
    "print('No of vowel present is:',count)"
   ]
  },
  {
   "cell_type": "code",
   "execution_count": 8,
   "id": "6f85613b-2cb3-4a7d-b4d5-4a82a2376221",
   "metadata": {},
   "outputs": [
    {
     "name": "stdin",
     "output_type": "stream",
     "text": [
      "Enter the string abc\n"
     ]
    },
    {
     "name": "stdout",
     "output_type": "stream",
     "text": [
      "The reverse string is: cba\n"
     ]
    }
   ],
   "source": [
    "'''Q3)Given a string, reverse the order of characters using string slicing and print the reversed string.'''\n",
    "\n",
    "#Ans:\n",
    "s=input('Enter the string')\n",
    "rs=s[::-1]\n",
    "print('The reverse string is:',rs)\n"
   ]
  },
  {
   "cell_type": "code",
   "execution_count": 11,
   "id": "0af5cfbc-8cd0-4db9-b4be-d7bf40e6634c",
   "metadata": {},
   "outputs": [
    {
     "name": "stdin",
     "output_type": "stream",
     "text": [
      "Enter the string alkla\n"
     ]
    },
    {
     "name": "stdout",
     "output_type": "stream",
     "text": [
      "Is the string a pallindrome: True\n"
     ]
    }
   ],
   "source": [
    "'''Q4)Write a program that takes a string as input and checks if it is a palindrome\n",
    "(reads the same forwards and backwards).'''\n",
    "\n",
    "#Ans:\n",
    "s=input('Enter the string')\n",
    "rs=s[::-1]\n",
    "a=bool(rs==s)\n",
    "print('Is the string a pallindrome:',a)"
   ]
  },
  {
   "cell_type": "code",
   "execution_count": 20,
   "id": "c20b86e3-1910-4678-ab4b-82df889d4a04",
   "metadata": {},
   "outputs": [
    {
     "name": "stdin",
     "output_type": "stream",
     "text": [
      "Enter the string djfn djb  dgn  jlk \n"
     ]
    },
    {
     "name": "stdout",
     "output_type": "stream",
     "text": [
      "The string without space is djfndjbdgnjlk\n"
     ]
    }
   ],
   "source": [
    "'''Q5)Create a program that takes a string as input and removes all the spaces from it.\n",
    "Print the modified string without spaces.'''\n",
    "\n",
    "#Ans:\n",
    "s=input('Enter the string')\n",
    "a=s.replace(' ','')\n",
    "print('The string without space is',a)"
   ]
  }
 ],
 "metadata": {
  "kernelspec": {
   "display_name": "Python 3 (ipykernel)",
   "language": "python",
   "name": "python3"
  },
  "language_info": {
   "codemirror_mode": {
    "name": "ipython",
    "version": 3
   },
   "file_extension": ".py",
   "mimetype": "text/x-python",
   "name": "python",
   "nbconvert_exporter": "python",
   "pygments_lexer": "ipython3",
   "version": "3.10.8"
  }
 },
 "nbformat": 4,
 "nbformat_minor": 5
}
